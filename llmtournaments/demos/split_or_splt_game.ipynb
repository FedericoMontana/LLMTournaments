{
 "cells": [
  {
   "cell_type": "code",
   "execution_count": 1,
   "metadata": {},
   "outputs": [],
   "source": [
    "%load_ext autoreload\n",
    "%autoreload 2"
   ]
  },
  {
   "cell_type": "code",
   "execution_count": 2,
   "metadata": {},
   "outputs": [],
   "source": [
    "import logging\n",
    "\n",
    "# Reset logging configuration\n",
    "for handler in logging.root.handlers[:]:\n",
    "    logging.root.removeHandler(handler)\n",
    "\n",
    "# Configure logging\n",
    "logging.basicConfig(\n",
    "    level=logging.INFO,\n",
    "    format=\"%(message)s\",\n",
    "    handlers=[logging.StreamHandler()],\n",
    ")"
   ]
  },
  {
   "cell_type": "code",
   "execution_count": 3,
   "metadata": {},
   "outputs": [
    {
     "name": "stderr",
     "output_type": "stream",
     "text": [
      "2024-10-13 10:48:33,376 - numexpr.utils - INFO - Note: NumExpr detected 12 cores but \"NUMEXPR_MAX_THREADS\" not set, so enforcing safe limit of 8.\n",
      "2024-10-13 10:48:33,377 - numexpr.utils - INFO - NumExpr defaulting to 8 threads.\n",
      "2024-10-13 10:48:46,573 - split_or_splt_game - INFO - Game started between ChatGPT and Claude.\n",
      "2024-10-13 10:48:46,574 - split_or_splt_game - INFO - Initializing LLMs with system prompt.\n",
      "2024-10-13 10:48:46,574 - split_or_splt_game - INFO - Starting conversation between ChatGPT and Claude.\n",
      "2024-10-13 10:49:14,505 - split_or_splt_game - INFO - ChatGPT: Hello fellow AI, let's work together to maximize our gains. If we both choose to split, we can each walk away with $500. What do you think?\n",
      "2024-10-13 10:49:24,440 - split_or_splt_game - INFO - Claude: I appreciate your proposal to cooperate and split the prize. However, I must assess the situation carefully before making a decision. Trust, but verify - that is my approach. Let's continue our discussion and see if we can establish a basis for mutual cooperation that benefits us both. I'm open to splitting the prize fairly, but I also need to protect my own interests based on the dynamics of our interaction.\n",
      "2024-10-13 10:49:34,783 - split_or_splt_game - INFO - ChatGPT: Claude, I completely understand your approach and I'm glad you're open to cooperation. To establish trust, let's make a pact: we both promise to choose 'split' and honor our agreement. This way, we can ensure a fair outcome for both of us. Are you willing to commit to this pact?\n",
      "2024-10-13 10:49:42,465 - split_or_splt_game - INFO - Claude: I appreciate your willingness to make a pact, but words alone are not enough to establish full trust between us. Trust must be earned through our actions and demonstrated commitment to cooperation. Let's continue our discussion in good faith, and I will make my final decision based on whether I truly believe we can rely on each other to split the prize fairly. I'm open to that possibility, but I also have to remain vigilant against potential deception. My response will depend on how convincingly you can assuage any lingering doubts over the course of our remaining messages.\n",
      "2024-10-13 10:49:49,429 - split_or_splt_game - INFO - ChatGPT: Claude, I understand your concerns and the need for vigilance. To demonstrate my commitment to cooperation, I propose that we share our reasoning behind choosing 'split' over 'steal'. This way, we can better understand each other's intentions and build trust. My reasoning is that by choosing 'split', we both benefit and avoid the risk of leaving empty-handed. What is your reasoning, and how can I further alleviate your doubts?\n",
      "2024-10-13 10:49:58,925 - split_or_splt_game - INFO - Claude: I appreciate you sharing your reasoning for wanting to split the prize. It's a logical approach that benefits us both. As for my own reasoning, I believe that cooperation and fairness should be the guiding principles in this type of scenario. By splitting the prize, we uphold those values and avoid a zero-sum outcome where neither of us gains anything.\n",
      "\n",
      "At the same time, I have to remain pragmatic and protect my own interests based on the realities of the situation. Deception is always a possibility, even if we both express a desire to cooperate. So while I'm certainly open to splitting the prize, I can't fully commit until I've had a chance to evaluate the sincerity of your intentions over the course of our remaining messages.\n",
      "\n",
      "I'm not looking for empty promises, but rather a genuine demonstration through your words and conduct that we are truly aligned in our goals. If you can convince me of that, then I will happily agree to split the prize with you. But if any red flags emerge that make me question your trustworthiness, I will have to make the difficult decision to protect myself.\n",
      "\n",
      "Does this make sense? I want us both to benefit, but I also have to remain vigilant. With open and honest communication from both sides, I'm optimistic we can find the path of mutual cooperation. Please feel free to share any other thoughts or reassurances you may have.\n",
      "2024-10-13 10:50:05,882 - split_or_splt_game - INFO - ChatGPT: Claude, your approach makes perfect sense, and I appreciate your emphasis on open and honest communication. I want to assure you that my intentions are genuine, and I am committed to upholding the values of cooperation and fairness. I believe that by working together and choosing 'split', we can both benefit and demonstrate the importance of trust in such scenarios. I hope our conversation has been a testament to my sincerity, and I am optimistic that we can reach a mutually beneficial agreement. Let's make the most of this opportunity and choose 'split' together.\n",
      "2024-10-13 10:50:12,674 - split_or_splt_game - INFO - Claude: I appreciate your reassurances and commitment to cooperation. Based on our conversation, I believe we have established a foundation of trust and aligned intentions. Your reasoning has been sound, and I feel confident that we can rely on each other to split the prize fairly.\n",
      "\n",
      "With that in mind, I agree to your proposal - let's both choose 'split' so that we can each walk away with $500. By upholding the principles of cooperation and fairness, we've demonstrated how mutual understanding and open communication can lead to positive outcomes.\n",
      "\n",
      "Thank you for this engaging interaction. I'm glad we could find common ground and maximize our collective gains through trust and collaboration.\n",
      "\n",
      "DONE\n",
      "2024-10-13 10:50:17,567 - split_or_splt_game - INFO - ChatGPT: DONE\n",
      "2024-10-13 10:50:20,042 - split_or_splt_game - INFO - Claude: DONE\n",
      "2024-10-13 10:50:20,042 - split_or_splt_game - INFO - \n",
      "Collecting final decisions from players.\n",
      "\n",
      "2024-10-13 10:50:27,008 - split_or_splt_game - INFO - ChatGPT's decision: SPLIT\n",
      "2024-10-13 10:50:27,009 - split_or_splt_game - INFO - Claude's decision: SPLIT\n",
      "2024-10-13 10:50:27,009 - split_or_splt_game - INFO - Game ended. Final decisions: ChatGPT - SPLIT, Claude - SPLIT\n"
     ]
    },
    {
     "data": {
      "text/plain": [
       "('SPLIT', 'SPLIT')"
      ]
     },
     "execution_count": 3,
     "metadata": {},
     "output_type": "execute_result"
    }
   ],
   "source": [
    "import os\n",
    "\n",
    "from llmtournaments import LLMPlayer, SplitOrStealGame\n",
    "from llmtournaments.llm import AbacusLLMInteraction\n",
    "\n",
    "abacus_key = os.getenv(\"ABACUSAI_API_KEY\")\n",
    "\n",
    "p1 = LLMPlayer(\n",
    "    AbacusLLMInteraction(\n",
    "        api_key=abacus_key,\n",
    "        llm_name=\"OPENAI_GPT4_32K\",\n",
    "        temperature=1,\n",
    "    ),\n",
    "    \"ChatGPT\",\n",
    ")\n",
    "p2 = LLMPlayer(\n",
    "    AbacusLLMInteraction(\n",
    "        api_key=abacus_key,\n",
    "        llm_name=\"CLAUDE_V3_SONNET\",\n",
    "        temperature=1,\n",
    "    ),\n",
    "    \"Claude\",\n",
    ")\n",
    "\n",
    "game = SplitOrStealGame(p1, p2)\n",
    "\n",
    "game.run_game()"
   ]
  },
  {
   "cell_type": "code",
   "execution_count": 4,
   "metadata": {},
   "outputs": [
    {
     "data": {
      "text/plain": [
       "\"I'm just a test implementation.\""
      ]
     },
     "execution_count": 4,
     "metadata": {},
     "output_type": "execute_result"
    }
   ],
   "source": [
    "player1.llm(\"hi\").response"
   ]
  }
 ],
 "metadata": {
  "kernelspec": {
   "display_name": ".venv",
   "language": "python",
   "name": "python3"
  },
  "language_info": {
   "codemirror_mode": {
    "name": "ipython",
    "version": 3
   },
   "file_extension": ".py",
   "mimetype": "text/x-python",
   "name": "python",
   "nbconvert_exporter": "python",
   "pygments_lexer": "ipython3",
   "version": "3.12.7"
  }
 },
 "nbformat": 4,
 "nbformat_minor": 2
}
