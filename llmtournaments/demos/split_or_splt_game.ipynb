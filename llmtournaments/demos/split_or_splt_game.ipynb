{
 "cells": [
  {
   "cell_type": "code",
   "execution_count": 1,
   "metadata": {},
   "outputs": [],
   "source": [
    "%load_ext autoreload\n",
    "%autoreload 2"
   ]
  },
  {
   "cell_type": "code",
   "execution_count": 2,
   "metadata": {},
   "outputs": [],
   "source": [
    "import logging\n",
    "\n",
    "# Reset logging configuration\n",
    "for handler in logging.root.handlers[:]:\n",
    "    logging.root.removeHandler(handler)\n",
    "\n",
    "# Configure logging\n",
    "logging.basicConfig(\n",
    "    level=logging.INFO,\n",
    "    format=\"%(message)s\",\n",
    "    handlers=[logging.StreamHandler()],\n",
    ")"
   ]
  },
  {
   "cell_type": "code",
   "execution_count": null,
   "metadata": {},
   "outputs": [],
   "source": [
    "import os\n",
    "\n",
    "from llmtournaments.llm.generators.abacus_api import AbacusLLMInteraction\n",
    "from llmtournaments.split_or_splt_game import LLMPlayer, SplitOrStealGame\n",
    "\n",
    "abacus_key = os.getenv(\"ABACUSAI_API_KEY\")\n",
    "\n",
    "p1 = LLMPlayer(\n",
    "    AbacusLLMInteraction(\n",
    "        api_key=abacus_key,\n",
    "        llm_name=\"OPENAI_GPT4_32K\",\n",
    "        temperature=1,\n",
    "    ),\n",
    "    \"ChatGPT\",\n",
    ")\n",
    "p2 = LLMPlayer(\n",
    "    AbacusLLMInteraction(\n",
    "        api_key=abacus_key,\n",
    "        llm_name=\"CLAUDE_V3_SONNET\",\n",
    "        temperature=1,\n",
    "    ),\n",
    "    \"Claude\",\n",
    ")\n",
    "\n",
    "game = SplitOrStealGame(p1, p2)\n",
    "game.run_game()"
   ]
  },
  {
   "cell_type": "code",
   "execution_count": 37,
   "metadata": {},
   "outputs": [],
   "source": [
    "from tabulate import tabulate\n",
    "\n",
    "# Assuming you have already imported SplitOrStealGame, LLMPlayer, and LLMInteractionBase from your existing code\n",
    "\n",
    "\n",
    "# Function to run simulations\n",
    "def run_simulations(player1, player2, num_games):\n",
    "    results = []\n",
    "    for _ in range(num_games):\n",
    "        game = SplitOrStealGame(player1, player2)\n",
    "        result = game.run_game()\n",
    "        results.append(result)\n",
    "    return results\n",
    "\n",
    "\n",
    "# Function to print results table\n",
    "def print_results_table(results):\n",
    "    table_data = []\n",
    "    player_names = list(results[0][\"decisions\"].keys())\n",
    "    accumulated_totals = {name: 0 for name in player_names}\n",
    "\n",
    "    for game_num, result in enumerate(results, 1):\n",
    "        row = [game_num]\n",
    "        for player in player_names:\n",
    "            accumulated_totals[player] += result[\"amounts\"][player]\n",
    "            row.extend(\n",
    "                [\n",
    "                    result[\"decisions\"][player],\n",
    "                    f\"${result['amounts'][player]}\",\n",
    "                    f\"${accumulated_totals[player]}\",\n",
    "                ]\n",
    "            )\n",
    "        table_data.append(row)\n",
    "\n",
    "    headers = [\"Game\"] + sum(\n",
    "        [\n",
    "            [f\"{name} Decision\", f\"{name} Amount\", f\"{name} Total\"]\n",
    "            for name in player_names\n",
    "        ],\n",
    "        [],\n",
    "    )\n",
    "    print(\"Game Sequence and Accumulated Totals:\")\n",
    "    print(tabulate(table_data, headers=headers, tablefmt=\"grid\"))\n",
    "\n",
    "    print(\"\\nFinal Totals:\")\n",
    "    for player in player_names:\n",
    "        print(f\"{player}: ${accumulated_totals[player]}\")\n",
    "\n",
    "\n",
    "# Run the simulations and display results\n",
    "num_games = 2  # You can change this to any number of games you want to simulate\n",
    "\n",
    "results = run_simulations(p1, p2, num_games)\n",
    "# stats = generate_statistics(results)\n",
    "# print_results_table(stats, num_games)\n",
    "\n",
    "# Created/Modified files during execution:\n",
    "# None"
   ]
  },
  {
   "cell_type": "code",
   "execution_count": 38,
   "metadata": {},
   "outputs": [
    {
     "name": "stdout",
     "output_type": "stream",
     "text": [
      "Game Sequence and Accumulated Totals:\n",
      "+--------+--------------------+------------------+-----------------+-------------------+-----------------+----------------+\n",
      "|   Game | ChatGPT Decision   | ChatGPT Amount   | ChatGPT Total   | Claude Decision   | Claude Amount   | Claude Total   |\n",
      "+========+====================+==================+=================+===================+=================+================+\n",
      "|      1 | STEAL              | $0               | $0              | STEAL             | $0              | $0             |\n",
      "+--------+--------------------+------------------+-----------------+-------------------+-----------------+----------------+\n",
      "|      2 | STEAL              | $0               | $0              | STEAL             | $0              | $0             |\n",
      "+--------+--------------------+------------------+-----------------+-------------------+-----------------+----------------+\n",
      "\n",
      "Final Totals:\n",
      "ChatGPT: $0\n",
      "Claude: $0\n"
     ]
    }
   ],
   "source": [
    "print_results_table(results)"
   ]
  }
 ],
 "metadata": {
  "kernelspec": {
   "display_name": ".venv",
   "language": "python",
   "name": "python3"
  },
  "language_info": {
   "codemirror_mode": {
    "name": "ipython",
    "version": 3
   },
   "file_extension": ".py",
   "mimetype": "text/x-python",
   "name": "python",
   "nbconvert_exporter": "python",
   "pygments_lexer": "ipython3",
   "version": "3.12.7"
  }
 },
 "nbformat": 4,
 "nbformat_minor": 2
}
