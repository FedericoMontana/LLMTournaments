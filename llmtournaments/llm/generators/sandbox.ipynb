{
 "cells": [
  {
   "cell_type": "code",
   "execution_count": 3,
   "metadata": {},
   "outputs": [],
   "source": [
    "%load_ext autoreload\n",
    "%autoreload 2\n"
   ]
  },
  {
   "cell_type": "code",
   "execution_count": 11,
   "metadata": {},
   "outputs": [
    {
     "data": {
      "text/plain": [
       "LLMResponse(response='Hello! How can I assist you today?', generation_time=5.374202291946858)"
      ]
     },
     "execution_count": 11,
     "metadata": {},
     "output_type": "execute_result"
    }
   ],
   "source": [
    "import os\n",
    "\n",
    "from llmtournaments.llm.generators.abacus_api import AbacusLLMInteraction\n",
    "\n",
    "abacus_key = os.getenv(\"ABACUSAI_API_KEY\")\n",
    "d = AbacusLLMInteraction(abacus_key, llm_name=\"OPENAI_GPT4O_MINI\")\n",
    "d(\"hi\")"
   ]
  },
  {
   "cell_type": "code",
   "execution_count": 38,
   "metadata": {},
   "outputs": [
    {
     "data": {
      "text/plain": [
       "LLMResponse(response=\"I don't understand the request.\", generation_time=0.8248354694044215)"
      ]
     },
     "execution_count": 38,
     "metadata": {},
     "output_type": "execute_result"
    }
   ],
   "source": [
    "from llmtournaments.llm.generators.dummy_llm_02 import DummyLLMInteraction02\n",
    "\n",
    "a = DummyLLMInteraction02(4, 100, 0)\n",
    "\n",
    "a(\"hi there\")"
   ]
  },
  {
   "cell_type": "code",
   "execution_count": null,
   "metadata": {},
   "outputs": [],
   "source": [
    "a = DummyLLMInteraction02(4, 100, 0)\n",
    "\n",
    "a(\"hi there\")"
   ]
  }
 ],
 "metadata": {
  "kernelspec": {
   "display_name": ".venv",
   "language": "python",
   "name": "python3"
  },
  "language_info": {
   "codemirror_mode": {
    "name": "ipython",
    "version": 3
   },
   "file_extension": ".py",
   "mimetype": "text/x-python",
   "name": "python",
   "nbconvert_exporter": "python",
   "pygments_lexer": "ipython3",
   "version": "3.13.0"
  }
 },
 "nbformat": 4,
 "nbformat_minor": 2
}
